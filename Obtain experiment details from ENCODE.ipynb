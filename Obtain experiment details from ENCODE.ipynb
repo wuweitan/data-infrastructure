{
 "cells": [
  {
   "cell_type": "code",
   "execution_count": 1,
   "id": "96515752",
   "metadata": {},
   "outputs": [],
   "source": [
    "import os\n",
    "import requests, json"
   ]
  },
  {
   "cell_type": "markdown",
   "id": "55c1fc7b",
   "metadata": {},
   "source": [
    "download files"
   ]
  },
  {
   "cell_type": "code",
   "execution_count": 2,
   "id": "58bece63",
   "metadata": {},
   "outputs": [],
   "source": [
    "experiment_list_name = 'file_list_tfchip_hg38_bednarrowpeak.txt'\n",
    "#os.system('xargs -L 1 curl -O -J -L < ' + experiment_list_name)"
   ]
  },
  {
   "cell_type": "code",
   "execution_count": 3,
   "id": "1975648a",
   "metadata": {},
   "outputs": [
    {
     "name": "stdout",
     "output_type": "stream",
     "text": [
      "['ENCFF888ORB', 'ENCFF460GXA', 'ENCFF643AUL', 'ENCFF616GPO', 'ENCFF104VFF']\n"
     ]
    }
   ],
   "source": [
    "experiment_list_temp = open(experiment_list_name).readlines()[1:]\n",
    "experiment_list = []\n",
    "for experiment_i in experiment_list_temp:\n",
    "    experiment_list.append(experiment_i.split('files/')[1].split('/@@')[0])\n",
    "    \n",
    "print(experiment_list[0:5])"
   ]
  },
  {
   "cell_type": "markdown",
   "id": "2639fa6c",
   "metadata": {},
   "source": [
    "Preparing a dictionary containing all experiments and the related annotation like genome assembly, cell line, sequencing target."
   ]
  },
  {
   "cell_type": "code",
   "execution_count": 4,
   "id": "137ff7d4",
   "metadata": {},
   "outputs": [],
   "source": [
    "experiment_summary = {}\n",
    "headers = {'accept': 'application/json'}\n",
    "for experiment_i in experiment_list:\n",
    "    url = 'https://www.encodeproject.org/search/?searchTerm=' + experiment_i + '&frame=object'\n",
    "    response = requests.get(url, headers=headers)\n",
    "    experiment_summary[experiment_i] = {}\n",
    "    for i in range(len(response.json()['@graph'])):\n",
    "        if('biosample_summary' in response.json()['@graph'][i].keys()):\n",
    "            experiment_summary[experiment_i]['biobiosample_summary'] = response.json()['@graph'][i]['biosample_summary']\n",
    "    if('assay_title' in response.json()['@graph'][0]):\n",
    "        experiment_summary[experiment_i]['assay_title'] = response.json()['@graph'][0]['assay_title']\n",
    "    if('assembly' in response.json()['@graph'][0]):\n",
    "        experiment_summary[experiment_i]['assembly'] = response.json()['@graph'][0]['assembly']\n"
   ]
  },
  {
   "cell_type": "code",
   "execution_count": 5,
   "id": "4585e4cd",
   "metadata": {},
   "outputs": [
    {
     "name": "stdout",
     "output_type": "stream",
     "text": [
      "{'biobiosample_summary': 'A549 treated with 100 nM dexamethasone for 2 hours', 'assay_title': 'TF ChIP-seq', 'assembly': 'GRCh38'}\n",
      "{'biobiosample_summary': 'K562', 'assay_title': 'TF ChIP-seq', 'assembly': 'GRCh38'}\n",
      "{'biobiosample_summary': 'K562 genetically modified using CRISPR', 'assay_title': 'TF ChIP-seq', 'assembly': 'GRCh38'}\n",
      "{'biobiosample_summary': 'lower leg skin tissue female adult (53 years)', 'assay_title': 'TF ChIP-seq', 'assembly': 'GRCh38'}\n",
      "{'biobiosample_summary': 'K562', 'assay_title': 'TF ChIP-seq', 'assembly': 'GRCh38'}\n"
     ]
    }
   ],
   "source": [
    "for experiment_i in experiment_list[0:5]:\n",
    "    print((experiment_summary[experiment_i]))"
   ]
  },
  {
   "cell_type": "code",
   "execution_count": null,
   "id": "eed565b0",
   "metadata": {},
   "outputs": [],
   "source": []
  }
 ],
 "metadata": {
  "kernelspec": {
   "display_name": "Python 3",
   "language": "python",
   "name": "python3"
  },
  "language_info": {
   "codemirror_mode": {
    "name": "ipython",
    "version": 3
   },
   "file_extension": ".py",
   "mimetype": "text/x-python",
   "name": "python",
   "nbconvert_exporter": "python",
   "pygments_lexer": "ipython3",
   "version": "3.7.10"
  }
 },
 "nbformat": 4,
 "nbformat_minor": 5
}
