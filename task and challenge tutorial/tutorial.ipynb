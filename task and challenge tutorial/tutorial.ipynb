{
 "cells": [
  {
   "cell_type": "code",
   "execution_count": null,
   "metadata": {},
   "outputs": [],
   "source": [
    "import numpy as np\n",
    "import torch\n",
    "import torch.optim as optim\n",
    "import torch.nn as nn\n",
    "import torch.utils.data as Data\n",
    "from sklearn import metrics"
   ]
  },
  {
   "cell_type": "code",
   "execution_count": null,
   "metadata": {},
   "outputs": [],
   "source": [
    "def get_auroc(preds, obs):\n",
    "        fpr, tpr, thresholds  = metrics.roc_curve(obs, preds, drop_intermediate=False)\n",
    "        auroc = metrics.auc(fpr, tpr)\n",
    "        return auroc\n",
    "\n",
    "def get_auprc(preds, obs):\n",
    "        precision, recall, thresholds  = metrics.precision_recall_curve(obs, preds)\n",
    "        auprc = metrics.auc(recall, precision)\n",
    "        return auprc\n",
    "\n",
    "def get_aurocs_and_auprs(tpreds, tobs):\n",
    "        tpreds_df = pd.DataFrame(tpreds)\n",
    "        tobs_df = pd.DataFrame(tobs)\n",
    "        task_list = []\n",
    "        auroc_list = []\n",
    "        auprc_list = []\n",
    "        for task in tpreds_df:\n",
    "                pred = tpreds_df[task]\n",
    "                obs = tobs_df[task]\n",
    "                auroc=round(get_auroc(pred,obs),5)\n",
    "                auprc = round(get_aupr(pred,obs),5)\n",
    "                task_list.append(task)\n",
    "                auroc_list.append(auroc)\n",
    "                auprc_list.append(aupr)\n",
    "        return auroc_list, auprc_list"
   ]
  },
  {
   "cell_type": "code",
   "execution_count": null,
   "metadata": {},
   "outputs": [],
   "source": [
    "path = './'\n",
    "challenge_specific_name = 'k562'\n",
    "train_x = torch.FloatTensor(np.load(path + challenge_specific_name + '_train_seq.npy'))\n",
    "train_y = torch.FloatTensor(np.load(path + challenge_specific_name + '_train_label.npy'))\n",
    "valid_x = torch.FloatTensor(np.load(path + challenge_specific_name + '_valid_seq.npy'))\n",
    "valid_y = torch.FloatTensor(np.load(path + challenge_specific_name + '_valid_label.npy'))\n",
    "test_x = torch.FloatTensor(np.load(path + challenge_specific_name + '_test_seq.npy'))\n",
    "test_y = torch.FloatTensor(np.load(path + challenge_specific_name + '_test_label.npy'))"
   ]
  },
  {
   "cell_type": "code",
   "execution_count": null,
   "metadata": {},
   "outputs": [],
   "source": [
    "optimizer = optim.SGD(model.parameters(), lr=1e-3, momentum=0.9)\n",
    "loss_func = nn.BCEWithLogitsLoss()\n",
    "train_loader = Data.DataLoader(dataset=Data.TensorDataset(train_x, train_y), shuffle=True, batch_size = 64)\n",
    "valid_loader = Data.DataLoader(dataset=Data.TensorDataset(valid_x, valid_y), shuffle=True, batch_size = 64)\n",
    "test_loader = Data.DataLoader(dataset=Data.TensorDataset(test_x, test_y), shuffle=False, batch_size = 64)\n"
   ]
  },
  {
   "cell_type": "code",
   "execution_count": null,
   "metadata": {},
   "outputs": [],
   "source": [
    "train_losses = []\n",
    "valid_losses = []\n",
    "for epoch in range(10):\n",
    "    model.train()\n",
    "    train_loss = 0\n",
    "    for step, (train_batch_x, train_batch_y) in enumerate(train_loader):\n",
    "        train_batch_x = train_batch_x.cuda()\n",
    "        train_batch_y = train_batch_y.cuda()\n",
    "        out = model(train_batch_x)\n",
    "        loss = loss_func(out, train_batch_y)\n",
    "        optimizer.zero_grad()\n",
    "        loss.backward()\n",
    "        optimizer.step()\n",
    "        train_losses.append(loss.item())\n",
    "        train_batch_x = torch.FloatTensor(np.flip(np.flip(train_batch_x.numpy(), 1), 2)).cuda()\n",
    "        train_batch_y = train_batch_y.cuda()\n",
    "        out = model(train_batch_x)\n",
    "        loss = loss_func(out, train_batch_y)\n",
    "        optimizer.zero_grad()\n",
    "        loss.backward()\n",
    "        optimizer.step()\n",
    "        train_losses.append(loss.item())\n",
    "    model.eval()\n",
    "    for valid_step, (valid_batch_x, valid_batch_y) in enumerate(valid_loader):\n",
    "        valid_batch_x = valid_batch_x.cuda()\n",
    "        valid_batch_y = valid_batch_y.cuda()\n",
    "        val_out = model(valid_batch_x)\n",
    "        val_loss = loss_func(val_out, valid_batch_y)\n",
    "        valid_losses.append(val_loss.item())\n",
    "        valid_batch_x = torch.FloatTensor(np.flip(np.flip(valid_batch_x.numpy(), 1), 2)).cuda()\n",
    "        valid_batch_y = valid_batch_y.cuda()\n",
    "        val_out = model(valid_batch_x)\n",
    "        val_loss = loss_func(val_out, valid_batch_y)\n",
    "        valid_losses.append(val_loss.item())"
   ]
  },
  {
   "cell_type": "code",
   "execution_count": null,
   "metadata": {},
   "outputs": [],
   "source": [
    "model.eval()\n",
    "for step, (seq, label) in enumerate(test_loader):\n",
    "    seq = seq.cuda()\n",
    "    label = label.cuda()\n",
    "    test_output = model(seq) \n",
    "    for i, j in zip(range(step*64, (step+1)*64),range(0, 64)):\n",
    "        pred_y[i, :] = test_output.numpy()[j, :]\n",
    "\n",
    "auroc, auprc = get_auroc_and_auprc(pred, label)"
   ]
  }
 ],
 "metadata": {
  "kernelspec": {
   "display_name": "Python 3",
   "language": "python",
   "name": "python3"
  },
  "language_info": {
   "codemirror_mode": {
    "name": "ipython",
    "version": 3
   },
   "file_extension": ".py",
   "mimetype": "text/x-python",
   "name": "python",
   "nbconvert_exporter": "python",
   "pygments_lexer": "ipython3",
   "version": "3.7.10"
  }
 },
 "nbformat": 4,
 "nbformat_minor": 4
}
