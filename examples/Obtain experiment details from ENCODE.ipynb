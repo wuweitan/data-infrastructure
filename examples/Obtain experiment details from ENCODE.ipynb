{
 "cells": [
  {
   "cell_type": "code",
   "execution_count": 1,
   "id": "96515752",
   "metadata": {},
   "outputs": [],
   "source": [
    "import os\n",
    "import requests, json\n",
    "import matplotlib.pyplot as plt"
   ]
  },
  {
   "cell_type": "markdown",
   "id": "55c1fc7b",
   "metadata": {},
   "source": [
    "download files"
   ]
  },
  {
   "cell_type": "code",
   "execution_count": 2,
   "id": "58bece63",
   "metadata": {},
   "outputs": [],
   "source": [
    "experiment_list_name = 'file_list_tfchip_hg38_bednarrowpeak.txt'\n",
    "#os.system('xargs -L 1 curl -O -J -L < ' + experiment_list_name)"
   ]
  },
  {
   "cell_type": "code",
   "execution_count": 3,
   "id": "1975648a",
   "metadata": {},
   "outputs": [
    {
     "name": "stdout",
     "output_type": "stream",
     "text": [
      "['ENCFF888ORB', 'ENCFF460GXA', 'ENCFF643AUL', 'ENCFF616GPO', 'ENCFF104VFF']\n"
     ]
    }
   ],
   "source": [
    "experiment_list_temp = open(experiment_list_name).readlines()[1:]\n",
    "experiment_list = []\n",
    "for experiment_i in experiment_list_temp:\n",
    "    experiment_list.append(experiment_i.split('files/')[1].split('/@@')[0])\n",
    "    \n",
    "print(experiment_list[0:5])"
   ]
  },
  {
   "cell_type": "code",
   "execution_count": null,
   "id": "137ff7d4",
   "metadata": {},
   "outputs": [],
   "source": [
    "experiment_summary = {}\n",
    "headers = {'accept': 'application/json'}\n",
    "for experiment_i in experiment_list:\n",
    "    print(experiment_i)\n",
    "    url = 'https://www.encodeproject.org/search/?searchTerm=' + experiment_i + '&frame=object'\n",
    "    response = requests.get(url, headers=headers)\n",
    "    experiment_summary[experiment_i] = {}\n",
    "    for i in range(len(response.json()['@graph'])):\n",
    "        if('biosample_summary' in response.json()['@graph'][i].keys()):\n",
    "            experiment_summary[experiment_i]['biobiosample_summary'] = response.json()['@graph'][i]['biosample_summary']\n",
    "    if('assay_title' in response.json()['@graph'][0]):\n",
    "        experiment_summary[experiment_i]['assay_title'] = response.json()['@graph'][0]['assay_title']\n",
    "    if('assembly' in response.json()['@graph'][0]):\n",
    "        experiment_summary[experiment_i]['assembly'] = response.json()['@graph'][0]['assembly']\n"
   ]
  },
  {
   "cell_type": "code",
   "execution_count": 5,
   "id": "4585e4cd",
   "metadata": {},
   "outputs": [],
   "source": [
    "cellline_list = []\n",
    "sequencing_method_list = []\n",
    "assembly_list = []\n",
    "for experiment_i in experiment_list[0:5]:\n",
    "    if('biobiosample_summary' in list(experiment_summary[experiment_i].keys())):\n",
    "        cellline_list.append(experiment_summary[experiment_i]['biobiosample_summary'])\n",
    "    if('assay_title' in list(experiment_summary[experiment_i].keys())):\n",
    "        sequencing_method_list.append(experiment_summary[experiment_i]['assay_title'])\n",
    "    if('assembly' in list(experiment_summary[experiment_i].keys())):\n",
    "        assembly_list.append(experiment_summary[experiment_i]['assembly'])"
   ]
  },
  {
   "cell_type": "code",
   "execution_count": 6,
   "id": "73e0999e",
   "metadata": {},
   "outputs": [
    {
     "name": "stdout",
     "output_type": "stream",
     "text": [
      "{'biobiosample_summary': 'A549 treated with 100 nM dexamethasone for 2 hours', 'assay_title': 'TF ChIP-seq', 'assembly': 'GRCh38'}\n",
      "{'biobiosample_summary': 'K562', 'assay_title': 'TF ChIP-seq', 'assembly': 'GRCh38'}\n",
      "{'biobiosample_summary': 'K562 genetically modified (insertion) using CRISPR targeting human ZNF639', 'assay_title': 'TF ChIP-seq', 'assembly': 'GRCh38'}\n",
      "{'biobiosample_summary': 'lower leg skin tissue female adult (53 years)', 'assay_title': 'TF ChIP-seq', 'assembly': 'GRCh38'}\n",
      "{'biobiosample_summary': 'K562', 'assay_title': 'TF ChIP-seq', 'assembly': 'GRCh38'}\n"
     ]
    }
   ],
   "source": [
    "for experiment_i in experiment_list[0:5]:\n",
    "    print(experiment_summary[experiment_i])"
   ]
  },
  {
   "cell_type": "code",
   "execution_count": null,
   "id": "d58306ae",
   "metadata": {},
   "outputs": [],
   "source": [
    "unique_cellline_list = np.unique(cellline_list)\n",
    "unique_sequencing_method_list = np.unique(sequencing_method_list)"
   ]
  },
  {
   "cell_type": "code",
   "execution_count": null,
   "id": "8a8424fc",
   "metadata": {},
   "outputs": [],
   "source": [
    "data_availability_summary = np.zeros((len(unique_cellline_list), len(unique_sequencing_method_list)))\n",
    "for experiment_i in experiment_list[0:1010]:\n",
    "    if(('biobiosample_summary' in list(experiment_summary[experiment_i].keys())) & ('assay_title' in list(experiment_summary[experiment_i].keys())) & ('assembly' in list(experiment_summary[experiment_i].keys()))):\n",
    "        data_availability_summary[np.where(experiment_summary[experiment_i]['biobiosample_summary'] == unique_cellline_list)[0][0], np.where(experiment_summary[experiment_i]['assay_title'] == unique_sequencing_method_list)[0][0]] = data_availability_summary[np.where(experiment_summary[experiment_i]['biobiosample_summary'] == unique_cellline_list)[0][0], np.where(experiment_summary[experiment_i]['assay_title'] == unique_sequencing_method_list)[0][0]] + 1"
   ]
  },
  {
   "cell_type": "code",
   "execution_count": 65,
   "id": "69e941bc",
   "metadata": {},
   "outputs": [
    {
     "data": {
      "text/plain": [
       "array(['Control ChIP-seq', 'DNase-seq', 'Hi-C', 'Histone ChIP-seq',\n",
       "       'Mint-ChIP-seq', 'RAMPAGE', 'TF ChIP-seq', 'WGBS', 'eCLIP',\n",
       "       'polyA plus RNA-seq', 'shRNA RNA-seq', 'siRNA RNA-seq',\n",
       "       'small RNA-seq', 'total RNA-seq'], dtype='<U18')"
      ]
     },
     "execution_count": 65,
     "metadata": {},
     "output_type": "execute_result"
    }
   ],
   "source": [
    "print(unique_sequencing_method_list)"
   ]
  },
  {
   "cell_type": "code",
   "execution_count": 61,
   "id": "54b34a01",
   "metadata": {},
   "outputs": [
    {
     "data": {
      "text/plain": [
       "<matplotlib.image.AxesImage at 0x196b5b3eb88>"
      ]
     },
     "execution_count": 61,
     "metadata": {},
     "output_type": "execute_result"
    },
    {
     "data": {
      "image/png": "[encoded data removed]",
      "text/plain": [
       "<Figure size 7200x1440 with 1 Axes>"
      ]
     },
     "metadata": {
      "needs_background": "light"
     },
     "output_type": "display_data"
    }
   ],
   "source": [
    "fig, ax = plt.subplots(figsize=(100, 20))\n",
    "ax.imshow(np.log(data_availability_summary + 1))"
   ]
  },
  {
   "cell_type": "code",
   "execution_count": null,
   "id": "a9683f18",
   "metadata": {},
   "outputs": [],
   "source": []
  }
 ],
 "metadata": {
  "kernelspec": {
   "display_name": "Python 3",
   "language": "python",
   "name": "python3"
  },
  "language_info": {
   "codemirror_mode": {
    "name": "ipython",
    "version": 3
   },
   "file_extension": ".py",
   "mimetype": "text/x-python",
   "name": "python",
   "nbconvert_exporter": "python",
   "pygments_lexer": "ipython3",
   "version": "3.7.10"
  }
 },
 "nbformat": 4,
 "nbformat_minor": 5
}
