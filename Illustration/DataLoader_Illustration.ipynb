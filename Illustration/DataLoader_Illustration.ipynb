{
 "cells": [
  {
   "cell_type": "code",
   "execution_count": 2,
   "metadata": {},
   "outputs": [],
   "source": [
    "from DataLoading import Dataloader\n",
    "import graph_networks\n",
    "import model_helper\n",
    "import graph_networks_gen"
   ]
  },
  {
   "cell_type": "markdown",
   "metadata": {},
   "source": [
    "## Topology / Structure-based Protein Design"
   ]
  },
  {
   "cell_type": "markdown",
   "metadata": {},
   "source": [
    "### Database: SCOPe"
   ]
  },
  {
   "cell_type": "markdown",
   "metadata": {},
   "source": [
    "**For Discriminative Tasks:**"
   ]
  },
  {
   "cell_type": "markdown",
   "metadata": {},
   "source": [
    "|            | class | fold | super-family | family | protein |\n",
    "| ---        | ---   | ---  | ---          | ---    |  ---    |\n",
    "| Training   | 6     | 1080 | 1820         | 4304   | 40082   |\n",
    "| Validation | 6     | 771  | 1232         | 2705   | 10069   |\n",
    "| Test       | 6     | 902  | 1480         | 3373   | 10737   |\n",
    "| All        | 6     | 1080 | 1820         | 4304   | 60888   |"
   ]
  },
  {
   "cell_type": "markdown",
   "metadata": {},
   "source": [
    "**For Generative Task**"
   ]
  },
  {
   "cell_type": "markdown",
   "metadata": {},
   "source": [
    "|            | class | fold | super-family | family | protein |\n",
    "| ---        | ---   | ---  | ---          | ---    |  ---    |\n",
    "| Training   | 6     | 870  | 1367         | 3022   | 39979   |\n",
    "| Validation | 6     | 131  | 276          | 678    | 10678   |\n",
    "| Test       | 6     | 152  | 259          | 662    | 10231   |\n",
    "| All        | 6     | 1080 | 1820         | 4304   | 60888   |"
   ]
  },
  {
   "cell_type": "markdown",
   "metadata": {},
   "source": [
    "### Load the data"
   ]
  },
  {
   "cell_type": "code",
   "execution_count": 2,
   "metadata": {},
   "outputs": [
    {
     "name": "stdout",
     "output_type": "stream",
     "text": [
      "The database SCOPe_debug has already been downloaded.\n",
      "\n",
      "Database: SCOPe_debug\n",
      "Task: Discriminative\n",
      "Shuffle: True False False\n",
      "training: 55 samples\n",
      "validation: 55 samples\n",
      "test: 59 samples\n",
      "Batch size: 16\n"
     ]
    }
   ],
   "source": [
    "train_set, vali_set, test_set = Dataloader()\n",
    "#train_set, vali_set, test_set = Dataloader(database = 'SCOPe_debug', \n",
    "#                                           path = '../Datasets/SCOPe/', \n",
    "#                                           task = 'Discriminative', \n",
    "#                                           batch_size = 16,)"
   ]
  },
  {
   "cell_type": "markdown",
   "metadata": {},
   "source": [
    "### Define the model"
   ]
  },
  {
   "cell_type": "code",
   "execution_count": 3,
   "metadata": {},
   "outputs": [],
   "source": [
    "model_dis = graph_networks.GraphLevelEmbedding(CUDA=False)"
   ]
  },
  {
   "cell_type": "code",
   "execution_count": 4,
   "metadata": {},
   "outputs": [],
   "source": [
    "model_gen = graph_networks_gen.VAE_Container(CUDA=False)"
   ]
  },
  {
   "cell_type": "markdown",
   "metadata": {},
   "source": [
    "### Train the model"
   ]
  },
  {
   "cell_type": "markdown",
   "metadata": {},
   "source": [
    "**Discriminative**"
   ]
  },
  {
   "cell_type": "code",
   "execution_count": 5,
   "metadata": {},
   "outputs": [
    {
     "name": "stdout",
     "output_type": "stream",
     "text": [
      "Epoch:  1\n",
      "Average loss: 6.992451\n",
      "Training accuracy: 0.0182\n",
      "Validation accuracy: 0.0000\n",
      "Test accuracy: 0.0000\n",
      "Training time for Epoch 1: 0.7060 s\n",
      "Total time for Epoch 1: 1.3040 s\n",
      "Epoch:  2\n",
      "Average loss: 6.500510\n",
      "Training accuracy: 0.0182\n",
      "Validation accuracy: 0.0000\n",
      "Test accuracy: 0.0000\n",
      "Training time for Epoch 2: 0.5852 s\n",
      "Total time for Epoch 2: 1.2051 s\n",
      "Epoch:  3\n",
      "Average loss: 4.776617\n",
      "Training accuracy: 0.0727\n",
      "Validation accuracy: 0.0000\n",
      "Test accuracy: 0.0000\n",
      "Training time for Epoch 3: 0.6079 s\n",
      "Total time for Epoch 3: 1.1639 s\n",
      "Best training result: 0.0727 (epoch 3)\n",
      "Best validation result: 0.0000 (epoch 0)\n",
      "Best test result: 0.0000 (epoch 0)\n"
     ]
    }
   ],
   "source": [
    "model, optimizer, results_all = model_helper.discriminative_train(train_set, model_dis, num_epochs = 3, \n",
    "                                                       val_dataset=vali_set, test_dataset=test_set)"
   ]
  },
  {
   "cell_type": "markdown",
   "metadata": {},
   "source": [
    "**Generative**"
   ]
  },
  {
   "cell_type": "code",
   "execution_count": 5,
   "metadata": {},
   "outputs": [
    {
     "name": "stdout",
     "output_type": "stream",
     "text": [
      "Epoch 1:\n",
      "Average-Loss: 2.9803\tAverage-CE: 2.9802\tAverage-KLD: 0.3185\n",
      "Training time: 5.8487s\n",
      "Epoch 2:\n",
      "Average-Loss: 2.7985\tAverage-CE: 2.7980\tAverage-KLD: 0.3198\n",
      "Training time: 6.9002s\n",
      "Epoch 3:\n",
      "Average-Loss: 2.6635\tAverage-CE: 2.6625\tAverage-KLD: 0.3260\n",
      "Training time: 7.0257s\n",
      "Epoch 4:\n",
      "Average-Loss: 2.5690\tAverage-CE: 2.5676\tAverage-KLD: 0.3397\n",
      "Training time: 6.6755s\n",
      "Epoch 5:\n",
      "Average-Loss: 2.4864\tAverage-CE: 2.4846\tAverage-KLD: 0.3593\n",
      "Training time: 7.5626s\n"
     ]
    }
   ],
   "source": [
    "model_gen, optimizer_gen = model_helper.VAE_training(model_gen, train_set, Epoch_NUM = 5)"
   ]
  },
  {
   "cell_type": "markdown",
   "metadata": {},
   "source": [
    "### Evaluation"
   ]
  },
  {
   "cell_type": "code",
   "execution_count": 15,
   "metadata": {},
   "outputs": [],
   "source": [
    "import evaluation\n",
    "import numpy as np\n",
    "import torch"
   ]
  },
  {
   "cell_type": "code",
   "execution_count": 22,
   "metadata": {},
   "outputs": [
    {
     "name": "stdout",
     "output_type": "stream",
     "text": [
      "The perplexity is 13.7019.\n",
      "The average sequence identity is 0.0393.\n",
      "\n",
      "Examples of the generated sequences:\n",
      "AMASRQQQRVVSVVLLLSLVVSSSSLVSVVVVSVSSLVLVVLVLQNELL\n",
      "KCKSLSEDPKPYYYANYNY\n",
      "LLLSSAYGENGGGHLR\n",
      "NVVVSSSVSSSHSSVSSVHHVHHVSSHVHVVVVHSVNQPPAA\n",
      "EKLAHHHAALINLSLSKLKLSLKKSLSKKKKKKKSSSSSSKSSLSKSA\n",
      "QLQRLQQQQQRRRQRRRQLRRQRQRRRLRRRRRLQKDVDKVKKDDDKVVDVKVVVKVVVVVKVDKVVDDVDLDKQQQDDDDQDNTAE\n",
      "KEKKPTTLA\n",
      "AHHAAAFFPREREPAAPAPALRLLLKD\n",
      "HHTEVQREREREQEEQRRERQRRQQQERQQEQREQRQQEQLA\n",
      "LLLNEPSSSGGKLVTK\n"
     ]
    }
   ],
   "source": [
    "ele_all, seq_all, iden_list, ppl_list = evaluation.Gen_evaluation(model_gen, train_set)\n",
    "print('The perplexity is %.4f.'%(float(torch.mean(torch.Tensor(ppl_list)))))\n",
    "print('The average sequence identity is %.4f.'%(np.mean(iden_list)))\n",
    "print()\n",
    "print('Examples of the generated sequences:')\n",
    "for s in  seq_all[:10]:\n",
    "    print(s)"
   ]
  },
  {
   "cell_type": "code",
   "execution_count": 20,
   "metadata": {},
   "outputs": [
    {
     "name": "stdout",
     "output_type": "stream",
     "text": [
      "The perplexity is 13.6997.\n",
      "The average sequence identity is 0.0437.\n",
      "\n",
      "Examples of the generated sequences:\n",
      "RLRKGGKLDDNLLLDNLNDNLDNNLDNNDLNDLNLNNDDNNLTKKKNHQQQHHHA\n",
      "ENEANNENREERREHYYLAHKAKHHAHHAAKHAHAHKAHHHKAKKKHAHHKHKLDALKK\n",
      "NPQKKQKKRPRPPPRLKKLKLLLLPPVKKPPKPK\n",
      "LNLNTTCNNCDDDDCLPQSPAKHHAVAVATAVTTAAATTVAAAVAVVTVATVTTAVVTTLLLK\n",
      "KKAASSSASSSKKYYYNLLTTLLLLLSTTLLLLTTSTLTSTSLTTSSTSSLLANNNKPANRN\n",
      "YYYYYYYYNNKNKYKNYYNKYNKYYNYKKNYNKYYAYKKFPGGGSLSLK\n",
      "TTTSSYEPPPLLGLPPPLGPGPGGPLPPGGGLLPLLLPGPGLPLLLAAKRRR\n",
      "QQQAPPPLPLPLPLLCPCKRRKKMMKKAAAMAMMMMAKMMKAAKMKMKKKAMAMKKVVHPPPTETLKP\n",
      "FLFFFLLLALLPPPLGAASSSSSSSK\n",
      "VTTVKVKTKVTKKKKTTVKVTTKTKTTTTTTKVVKKPKKGGTFCQAAALL\n"
     ]
    }
   ],
   "source": [
    "ele_all, seq_all, iden_list, ppl_list = evaluation.Gen_evaluation(model_gen, test_set)\n",
    "print('The perplexity is %.4f.'%(float(torch.mean(torch.Tensor(ppl_list)))))\n",
    "print('The average sequence identity is %.4f.'%(np.mean(iden_list)))\n",
    "print()\n",
    "print('Examples of the generated sequences:')\n",
    "for s in  seq_all[:10]:\n",
    "    print(s)"
   ]
  },
  {
   "cell_type": "markdown",
   "metadata": {},
   "source": [
    "## Antibody Design"
   ]
  },
  {
   "cell_type": "markdown",
   "metadata": {},
   "source": [
    "### Database: SAbDab, AbDb, CoV3D"
   ]
  },
  {
   "cell_type": "markdown",
   "metadata": {},
   "source": [
    "**For Pretraining:**"
   ]
  },
  {
   "cell_type": "markdown",
   "metadata": {},
   "source": [
    "|            | cluster | pdb  | complex |\n",
    "| ---        | ---     | ---  | ---     | \n",
    "| Training   | 791     | 1189 | 2083    |\n",
    "| Validation | 179     | 255  | 427     |\n",
    "| Test       | 169     | 312  | 511     |   "
   ]
  },
  {
   "cell_type": "markdown",
   "metadata": {},
   "source": [
    "**For Finetuning:**"
   ]
  },
  {
   "cell_type": "markdown",
   "metadata": {},
   "source": [
    "|            | cluster | pdb  | complex |\n",
    "| ---        | ---     | ---  | ---     | \n",
    "| Training   | 103     | 136 | 237    |\n",
    "| Validation | 27     | 47  | 77    |\n",
    "| Test       | 22     | 32  | 62     |   "
   ]
  },
  {
   "cell_type": "code",
   "execution_count": 10,
   "metadata": {},
   "outputs": [],
   "source": [
    "import networks\n",
    "import training_helper\n",
    "import evaluation_helper"
   ]
  },
  {
   "cell_type": "code",
   "execution_count": 4,
   "metadata": {},
   "outputs": [],
   "source": [
    "model_anti = networks.CDR_Generator(USE_CUDA = False)\n",
    "data_path = '../Datasets/Antibody/LoaderData_EGCN_Pretrain_Training_small.pickle'"
   ]
  },
  {
   "cell_type": "code",
   "execution_count": 5,
   "metadata": {},
   "outputs": [
    {
     "name": "stdout",
     "output_type": "stream",
     "text": [
      "Data loading...\n",
      "4 clusters and 10 samples loaded.\n",
      "Training...\n",
      "Epoch 1:\n",
      "tensor(2.9997, grad_fn=<NllLossBackward0>)\n",
      "tensor(2.7646, grad_fn=<NllLossBackward0>)\n",
      "Average-Loss: 2.8821  Training time: 253.0475s\n",
      "Epoch 2:\n",
      "tensor(2.6835, grad_fn=<NllLossBackward0>)\n",
      "tensor(2.7116, grad_fn=<NllLossBackward0>)\n",
      "Average-Loss: 2.6975  Training time: 250.1725s\n",
      "Epoch 3:\n",
      "tensor(2.7010, grad_fn=<NllLossBackward0>)\n",
      "tensor(2.6060, grad_fn=<NllLossBackward0>)\n",
      "Average-Loss: 2.6535  Training time: 255.3047s\n",
      "Training (3 epochs and 6 iterations) completed!\n"
     ]
    }
   ],
   "source": [
    "model_anti, optimizer = training_helper.model_training(model_anti, data_path, \n",
    "                                                       Epoch_end = 3, batch_size = 2, USE_CUDA = False)"
   ]
  },
  {
   "cell_type": "code",
   "execution_count": 11,
   "metadata": {},
   "outputs": [
    {
     "name": "stdout",
     "output_type": "stream",
     "text": [
      "Data loading...\n",
      "10 sample loaded.\n",
      "Evaluating...\n",
      "Epoch 1:\n",
      "CDR seq: [['WSLQSFTQ', 'CTMQAFSG', 'YRSNKRTLEMGYSTNW', 'SPRGTGTGR', '', 'VLWKAEVPTS'], ['HYSDVSLA', 'LYAQAKLS', 'NDTLGRGVSNPQFRAY', 'QIRCALGWD', '', 'CYYRDEDYYY']]\n",
      "Cross_entropy: 2.6960 \tPerplexity: 14.8205 \tAAR: 0.1208\n",
      "CDR seq: [['KFHCDYTP', '', 'HLYFLSSYYMHQDQ', 'MIQRTIYTH', 'YEG', ''], ['', '', '', 'WPMRTRGLKAVR', 'FMS', 'TKWCYYTN']]\n",
      "Cross_entropy: 2.6410 \tPerplexity: 14.0273 \tAAR: 0.0859\n",
      "CDR seq: [['', 'KRSKYSDL', 'WTLYGRNK', 'FTGAHFFNRWKT', 'LTK', 'LDRMYWFA'], ['', '', 'FQWGRTKGRIYN', 'SGQFPYIISYNI', 'MRR', 'LCWKRQRK']]\n",
      "Cross_entropy: 2.6188 \tPerplexity: 13.7198 \tAAR: 0.0324\n",
      "CDR seq: [['', '', 'RPWEFQWSQVDT', 'QYATECTSEYSC', 'SLM', 'LSAWEGIA'], ['', '', 'AENQNMTLTCNW', 'TLVRIGESWNMA', 'DTA', 'RNLNQHDN']]\n",
      "Cross_entropy: 2.5933 \tPerplexity: 13.3733 \tAAR: 0.0312\n",
      "CDR seq: [['', '', 'WDQIPSRIVMYF', 'KKTGSQYVEKQS', 'YTR', 'MTYLVYQH'], ['', '', 'RDWTWMTKFATS', 'KEENNGKVNYSV', 'NNF', 'RLGWDSKC']]\n",
      "Cross_entropy: 2.5929 \tPerplexity: 13.3680 \tAAR: 0.0590\n",
      "Average-CE: 2.6337  Average-PPL: 13.9246\n",
      "Average-AAR: 0.0672  Average-AAR (over batches): 0.0659\n",
      "Evaluation time: 53.8002s\n"
     ]
    }
   ],
   "source": [
    "seq_dict, result_dict = evaluation_helper.model_evaluation(model_anti, data_path, \n",
    "                                                           batch_size = 2, USE_CUDA = False)"
   ]
  },
  {
   "cell_type": "code",
   "execution_count": 9,
   "metadata": {},
   "outputs": [
    {
     "name": "stdout",
     "output_type": "stream",
     "text": [
      "Data loading...\n",
      "10 sample loaded.\n",
      "Evaluating...\n",
      "Epoch 1:\n",
      "CDR seq: [['SNSSSKVL', 'LDSATTM', 'AYGGVLHAWLPTLYDKEDSHA', 'PRQYGNHRRCLS', '', 'ANYRCSAMC'], ['GSELTQTL', 'NQHYQRAW', 'ASTSALCDTV', 'WPKSR', 'VIM', 'HRQGQMCLGGL']]\n",
      "Cross_entropy: 2.8677 \tPerplexity: 17.5969 \tAAR: 0.0827\n",
      "CDR seq: [['GMRPWNKL', 'YYFAKDSD', 'KRWQYYWYHS', 'SATTS', 'SGN', 'VESPACSRYLN'], ['PTYRWQDKVM', 'AENKTYILR', 'MRKPDWLAKLSYVQII', 'IDLQSRN', '', 'NSLPGYSSA']]\n",
      "Cross_entropy: 2.7381 \tPerplexity: 15.4582 \tAAR: 0.1159\n",
      "CDR seq: [['NSAWVHVENG', 'SRGIKGWTS', 'PMFKTPKWRVVPSRST', 'CMMQWSW', '', 'KMVNSYMLT'], ['', 'KYKYWFHK', 'TQRLSYRGEAIIQLSQYN', 'FSDDES', 'GWN', 'NCYLLSYGYFD']]\n",
      "Cross_entropy: 2.8742 \tPerplexity: 17.7120 \tAAR: 0.1052\n",
      "CDR seq: [['', 'RTNWRMAY', 'ANVFVRCMYLRMSCYVTC', 'YTRYNS', 'DLL', 'IQLSGYTCI'], ['', 'RYQPMKGQ', 'AWYACFNMCVLLKAWQPD', 'DHAHPF', 'YMR', 'KSRHISKVT']]\n",
      "Cross_entropy: 2.8385 \tPerplexity: 17.0902 \tAAR: 0.0380\n",
      "CDR seq: [['RYGETESP', '', 'HEHMFYYWTTVLS', 'MSLYDKYRSA', '', 'SYAYKRSAA'], ['THKNSYLL', '', 'YYNQHESSSVSEI', 'AWTIEDGYDG', '', 'SGMEDYILP']]\n",
      "Cross_entropy: 2.8243 \tPerplexity: 16.8497 \tAAR: 0.1235\n",
      "Average-CE: 2.8292  Average-PPL: 16.9314\n",
      "Average-AAR: 0.0921  Average-AAR (over batches): 0.0931\n",
      "Evaluation time: 67.6453s\n"
     ]
    }
   ],
   "source": [
    "test_path = '../Datasets/Antibody/LoaderData_EGCN_Pretrain_Test_small.pickle'\n",
    "seq_dict, result_dict = evaluation_helper.model_evaluation(model_anti, test_path, \n",
    "                                                           batch_size = 2, USE_CUDA = False)"
   ]
  },
  {
   "cell_type": "code",
   "execution_count": null,
   "metadata": {},
   "outputs": [],
   "source": []
  }
 ],
 "metadata": {
  "kernelspec": {
   "display_name": "Python 3",
   "language": "python",
   "name": "python3"
  },
  "language_info": {
   "codemirror_mode": {
    "name": "ipython",
    "version": 3
   },
   "file_extension": ".py",
   "mimetype": "text/x-python",
   "name": "python",
   "nbconvert_exporter": "python",
   "pygments_lexer": "ipython3",
   "version": "3.7.4"
  }
 },
 "nbformat": 4,
 "nbformat_minor": 2
}
