{
 "cells": [
  {
   "cell_type": "code",
   "execution_count": 1,
   "metadata": {},
   "outputs": [],
   "source": [
    "from DataLoading import Dataloader\n",
    "import graph_networks\n",
    "import model_helper\n",
    "import graph_networks_gen"
   ]
  },
  {
   "cell_type": "markdown",
   "metadata": {},
   "source": [
    "### Load the data"
   ]
  },
  {
   "cell_type": "code",
   "execution_count": 2,
   "metadata": {},
   "outputs": [
    {
     "name": "stdout",
     "output_type": "stream",
     "text": [
      "The database SCOPe_debug has already been downloaded.\n",
      "\n",
      "Database: SCOPe_debug\n",
      "Task: Discriminative\n",
      "Shuffle: True False False\n",
      "training: 55 samples\n",
      "validation: 55 samples\n",
      "test: 59 samples\n",
      "Batch size: 16\n"
     ]
    }
   ],
   "source": [
    "train_set, vali_set, test_set = Dataloader()\n",
    "#train_set, vali_set, test_set = Dataloader(database = 'SCOPe_debug', \n",
    "#                                           path = '../Datasets/SCOPe/', \n",
    "#                                           task = 'Discriminative', \n",
    "#                                           batch_size = 16,)"
   ]
  },
  {
   "cell_type": "markdown",
   "metadata": {},
   "source": [
    "### Define the model"
   ]
  },
  {
   "cell_type": "code",
   "execution_count": 3,
   "metadata": {},
   "outputs": [],
   "source": [
    "model_dis = graph_networks.GraphLevelEmbedding(CUDA=False)"
   ]
  },
  {
   "cell_type": "code",
   "execution_count": 4,
   "metadata": {},
   "outputs": [
    {
     "name": "stderr",
     "output_type": "stream",
     "text": [
      "/home/zoro/TAMU/Research/Data_Buffet/data-buffet/Illustration/graph_networks_gen.py:749: UserWarning: nn.init.xavier_uniform is now deprecated in favor of nn.init.xavier_uniform_.\n",
      "  m.weight.data = init.xavier_uniform(m.weight.data, gain=nn.init.calculate_gain('relu'))\n",
      "/home/zoro/TAMU/Research/Data_Buffet/data-buffet/Illustration/graph_networks_gen.py:751: UserWarning: nn.init.constant is now deprecated in favor of nn.init.constant_.\n",
      "  m.bias.data = init.constant(m.bias.data, 0.0)\n"
     ]
    }
   ],
   "source": [
    "model_gen = graph_networks_gen.VAE_Container(CUDA=False)"
   ]
  },
  {
   "cell_type": "markdown",
   "metadata": {},
   "source": [
    "### Train the model"
   ]
  },
  {
   "cell_type": "markdown",
   "metadata": {},
   "source": [
    "**Discriminative**"
   ]
  },
  {
   "cell_type": "code",
   "execution_count": 5,
   "metadata": {},
   "outputs": [
    {
     "name": "stdout",
     "output_type": "stream",
     "text": [
      "Epoch:  1\n",
      "Average loss: 6.982465\n",
      "Training accuracy: 0.0727\n",
      "Validation accuracy: 0.0000\n",
      "Test accuracy: 0.0000\n",
      "Training time for Epoch 1: 0.6512 s\n",
      "Total time for Epoch 1: 1.2357 s\n",
      "Epoch:  2\n",
      "Average loss: 6.350680\n",
      "Training accuracy: 0.0364\n",
      "Validation accuracy: 0.0000\n",
      "Test accuracy: 0.0000\n",
      "Training time for Epoch 2: 0.5803 s\n",
      "Total time for Epoch 2: 1.1768 s\n",
      "Epoch:  3\n",
      "Average loss: 4.737791\n",
      "Training accuracy: 0.0364\n",
      "Validation accuracy: 0.0000\n",
      "Test accuracy: 0.0000\n",
      "Training time for Epoch 3: 0.5630 s\n",
      "Total time for Epoch 3: 1.1328 s\n",
      "Best training result: 0.0727 (epoch 1)\n",
      "Best validation result: 0.0000 (epoch 0)\n",
      "Best test result: 0.0000 (epoch 0)\n"
     ]
    }
   ],
   "source": [
    "model, optimizer, results_all = model_helper.discriminative_train(train_set, model_dis, num_epochs = 3, \n",
    "                                                       val_dataset=vali_set, test_dataset=test_set)"
   ]
  },
  {
   "cell_type": "markdown",
   "metadata": {},
   "source": [
    "**Generative**"
   ]
  },
  {
   "cell_type": "code",
   "execution_count": 6,
   "metadata": {},
   "outputs": [
    {
     "name": "stdout",
     "output_type": "stream",
     "text": [
      "Epoch 1:\n"
     ]
    },
    {
     "name": "stderr",
     "output_type": "stream",
     "text": [
      "/home/zoro/TAMU/Research/Data_Buffet/data-buffet/Illustration/model_helper.py:514: UserWarning: torch.nn.utils.clip_grad_norm is now deprecated in favor of torch.nn.utils.clip_grad_norm_.\n",
      "  ec = nn.utils.clip_grad_norm(model.parameters(), clip)\n"
     ]
    },
    {
     "name": "stdout",
     "output_type": "stream",
     "text": [
      "Average-Loss: 2.9930\tAverage-CE: 2.9928\tAverage-KLD: 0.3083\n",
      "Training time: 5.7908s\n",
      "Epoch 2:\n",
      "Average-Loss: 2.8220\tAverage-CE: 2.8214\tAverage-KLD: 0.3191\n",
      "Training time: 6.3859s\n",
      "Epoch 3:\n",
      "Average-Loss: 2.6706\tAverage-CE: 2.6696\tAverage-KLD: 0.3380\n",
      "Training time: 6.3291s\n"
     ]
    }
   ],
   "source": [
    "model_gen, optimizer_gen = model_helper.VAE_training(model_gen, train_set, Epoch_NUM = 3)"
   ]
  },
  {
   "cell_type": "markdown",
   "metadata": {},
   "source": [
    "### Evaluation"
   ]
  },
  {
   "cell_type": "code",
   "execution_count": 20,
   "metadata": {},
   "outputs": [],
   "source": [
    "import evaluation_gen"
   ]
  },
  {
   "cell_type": "code",
   "execution_count": 21,
   "metadata": {},
   "outputs": [],
   "source": [
    "ele_all, seq_all = evaluation_gen.Gen_evaluation(model_gen, test_set)"
   ]
  },
  {
   "cell_type": "code",
   "execution_count": 22,
   "metadata": {},
   "outputs": [
    {
     "name": "stdout",
     "output_type": "stream",
     "text": [
      "FFFWTNNNDDDAIAIIGGAGNNAAAGGANNAANGNAGNGNAAGGANNANANATTDTTGGIGFAV\n",
      "YGNNGATT\n",
      "TTTTTTTTTTMMRPTFCTT\n",
      "ANAAAYDYYVYMYVVYMVMVVMYMVMVVMVYYYMYVMMVMMIF\n",
      "APPPYARVYYAVYVYYAYYYVAVYVYVYVYAAAVAVVVYAAAVVVVNADDGAGDDAGDDDADDAAGGGAAGADGGAADDAGDKMMKMKMKPKKMKKPKPKPKKKMMPKKKMMMKMKPEEPIANFHH\n",
      "WWMMMMGGGWMGMGGGGMGWWGGWWGMMWGGWMMMVYVFEFFFFFFAAFFAGPTPPTMTSTTAAAGGGNNNANAAANGGGGAGAGANNGGAAANNNG\n",
      "LDFNDDFDNDDDFDFNDDFDNNNDDFDNDFNNNFDNGNDNNNIIINIDNINNNNINIDINNNNNININIDDDNAEEDDEDDF\n",
      "ARALNWNLLLNLLNLLNLNNLNWNWNWNLWWNNNWNLNAAANHHAHNAAAAHHHAHNAHANHNNHNHNANANNIYIAYYIYIYIAAAIAAAIAYYAAAYYAYAIAYYINGAALTTW\n",
      "IAASSIAIAISISSAIAASISSISAIASSRAASRAAKEGGGAGASSMDQDQGGL\n",
      "PAAPDAAPAPADAADDDDDPADAAAAADADPDADANNYYPNPNYYPYPYYNYNYPYPNNPNNPNYYYYNYGRRRAAVGGAVAVGVGVVVAAGVVGVAAGGVGGAGGGAGAIFPPYPRYRPYYPRRPYYPYPPRYPYYPYRYPYPYYRMMN\n",
      "WWCNNINQQQESAPPPMAAMAPAPAPPMPPAMAPAPPPMMPAAPPAARRRRN\n",
      "PSSDTVVGVGVVGGGTVGGVVGGTTTTTTGGTGVTTGVAKKPANAPANPNPANPPNPNAPAANANPPNAPAAPFNDADDADAAAGAAAAIAAIAAGGIIGAIAAAAAAIIAAAAAIIACKN\n",
      "NNNNVRVYGVGVDVVDVVVYVYDYVDVYDDYDDDYVDDDVDNITFFFLLNHNHNNNNHN\n",
      "WFAGGGAAFFFYVKKVVYKKYYVYVYVYKKYVVKVKVYVYYKKKYVWWWLMLLWWLLWLLWLMWMLWMLWLMWLMMWLMWLMDMDGDDDMDMGMDDGMGMDGDGDGDMMMDMDGDMILLLFIFIILLFLLFFIILILFIFFFFILIIIILFGGIAYYYQNANGGAGGAAAFAEGEFEEEFFFELFEEFFLLLLFELFFELEELLLLEMMMMDDDGGGAAAAAGA\n",
      "YRYYYDWDWTWTWWWTTTWWTHTWTHWTWHTTWHHWTWTHHHWWFFFAAGGGGAAGGFFAGFFGFGFAAFFAFAAAAAGGAALAAAAWMNVDVDAADADADDVADDAVDDDDDADAVVVVAVDAVVNIDINNDNDNDNNNDIDDNIIINNNIININNNINNSNNNDRDDRRGGR\n",
      "WTTGMIAFGGYIYNNNYYININIIIYIIIINYYIYYNNNYYIYNYWRFFDFKK\n",
      "AWAFPFPYYAAAIPIYDYYYDY\n",
      "DDDEDEIVIVAAAAAAFFAAASETETSSTNTGGHAHHAATFF\n",
      "FLNFNFEEEFLELLLFFLEFEFLFLLLLLLFFEEFELLFLLELSWNAANAANNRFAFFFFFFAFGGK\n",
      "DGGWAAWAAGAWGGWAAGAAWGAGGWWWWAGGGWAGTTMLTLLTLLTTTTLLLTLLTLMMMMTTMMTMLLMVCVVCKIKAANANNNNRRNNRNNRNARNNAARNARANRNRRNRTNLTTNTTNLLTNNNTTTTNTTNLNTLTTTNTTNNIYYFYYYNNFFFNNFNFNFNNFNNYFNNYFYYFNYN\n",
      "DDDDDDMKAKNNVAASYYYSYFAAGGGAGGAGDGGDGGGGGGAGGAGDAGDDGAADSSVTTN\n",
      "FFFAGGIIIIIEETMTTMVLKLLKLLFFKFKFKKLFFKFKLFKFLLFFFFFLKKVVGAAAGADDDAGGDADDDADAAGDADGDDAGGGAAAF\n",
      "FFWWEEVVTYYTAGHAFAINNN\n",
      "NAANANAANAWDDWWDTTTTTTTSTCDNIDNNNINDIDDNINDNINDDDNNIINDIINNNAGFAFAGAAGFGGAFGGFGFAGGAAAFAFAAAFAF\n",
      "SETATAKMMSSLLSFKDDGGGKKKDGDGDDDGGDDGGGKGKGDKKKDKKGIDNNVDDVNVDVVDVVNDVDVNVVNNDDDDVVVVVVSSSSRVVV\n",
      "NNAHNHANANAAANNNHAAAANNAHHAAAANANNNTIAAIITIAATIIITTAITTIATATIIIAATITITMGYYLFFFLFLLLLLLYYFLFLYLFLFFYFYFYFYLFFGAGGFFKEEEYYVYVYVYVYYVVYYYVYYYVYYVYVPYYPPVVVY\n",
      "SSSSTTKKEEAPY\n",
      "TTMMPAAAAQGGHRAAHHRARHRHHHHRAAHHRHAHARARHAHRRAIDIAAIAIIIIIIAIDIADAADAIAAAIIDIAAAPVVNINIIIIIN\n",
      "DMRDTPKAAFWWFWFWFFFWFFWAAWAAWAFAWAFWAAFWWAAANNNGRIYIAFAAAFAAAYDDADDAADAYYDYAAYAADADDAYYDDADAADAD\n",
      "ATETDTDDTDDDDTTDTEEDTDDTDDETDETTEDETWVVMWVVDIAAYAAFFVVMRGNNTNTTNNTTTTN\n",
      "AALLVLVVLPVLLPVPVLVVPPPLLVLLLVPLVVPPPAANEMMMSFFF\n",
      "GSAGGGAGSGAGSGSAAGSSSGASSGASGASGSAAAVKKIKQAAAAAASYYAAF\n",
      "MTWTWWMWWMTWWWMMTTWMWTTWWTTWTWTWWWTMNNVVVVDVNVDVVNVNNVNVNDVNNNVNVNNDDNVYMRRRTTWWAAATIAAAFEEDNNNGDDGDGGGGDGDMMGDGMDDGGMMDGMGMDMGMGM\n",
      "NANTNTNACAGDDGAGGDAGDADADDDDDDGGAAGDAGADGDADLLRARAAAAAFFAV\n",
      "PTTMMSAEAADDNADADDNADANDDAANDDNADDADNDNAAADADNANALNAALNALNANNAALLLNLLNALALNNLLNARWDDAASTTNT\n",
      "YMYMMMYMMYVYVMMMVMMYVMMYVMMVMMVMMMMMPMQPQQQQPMMQQMPPMPPQMQMQQQPQQMMQPQNGYYVNAYAYAAAAGLPLPPPGGPPGGPAM\n",
      "EAGLLLFFAIAIAIMSQQQSYYQQYYSSQYQSYQYQSYYSQQQSQYYSYAATAAAATAATTTTTMDD\n",
      "AMDDGGGGGIDDIIDDDDIDDGGGGIGIIIDDDGIITEEWFFDVTTTTTTTVMAININIE\n",
      "GGGGRFAAIAPAYIAIIYYYYIYYAIIAIAYIIIIYIYIAIIIYYYIDADDKR\n",
      "MMDTTTRTSSTAGSQSQQRRSRQRSSRRRSSQSQQRQSQQRQSSQSQQV\n",
      "FNAAPPPFFWFFWFWFFNAENNNANAEEEEAEAAAEENEEAAEAAAAENAEARRMMVDMMVVMVMVVDDVDDMMMVMMDVDMVVVMDDDFFAKITFAHAHFHHHHAHHFHAHFAAHHHFFFAHHHAAHHH\n",
      "AGAGFLLLLLLFGSTDPGGGTYLYYYYLAAAAKLLKAAAAKLKLALKAAAAKKLAKGAGAAANAGAGNAAGANGGNAIIIY\n",
      "PNWWWWWLLLNWWANWNNWWWNWWWNNAAAANNWNNAIAIRFNINAAAVAVAA\n",
      "VGAINCMFHHNNNHNFFNHNHFHNHNHNHNNHHFNNNHNHHFINNNAIGAAIAAAGIIIGGGGAIIGAIGAAAIIAIIGGIAMMGTSPAPPYEE\n",
      "FIFFAIIAAFFAIAAAAIAIIIFFIFAFFAFIFIFNYQYYKTKTKIKKKITITKTKIIKKTIKIKIKKKKTIKTTAAAANANAM\n",
      "ETEGEETQFINAIEEF\n",
      "TTTTMFMMMAMAMMAMMWTIFWQQMQQQQQPQPMQPQMMMMPQMQMPMPPMPPQMQPDFYPADTTD\n",
      "GFMAMMAMPAAPMAMAAMMAAAAMAMPPAMPTNTDDWNNWNNDNDNDWNDNDDNWWWDDWDDWDNNDWNINLEELLENLNNLLNNNNNNELNLLNFLNFLNELLLYYVYVYA\n",
      "SAGFGFAGGGGAGAFGFGAFAAAAFGAFGFFAAFAAYFRVYYRRRRYYVYVVVRVYYYYRRYVVRVYYYYRPFFAFGFGAAFFAAGAGAAGFGAAGAGGAGAFGFFAMMDDGDDGD\n",
      "NNNAAPYMPMPPMMPDYDNGGAAGGAATDTT\n",
      "PPNPPFGIRAAYYAMMEEFFDEAF\n",
      "NNAQQQNNNQNNANNNNNAQANNNQQNANANQQAAAGDTGGGTGTTGGTTGDTTTTTTDTGDGGGDGDGDTSRRRQSQQQIKIKFFGGR\n",
      "FFFENKKNFAFGGKGYAYANATMMTMTTNP\n",
      "RMMVMLMMRRRNAVVAAYAAYYAAAAIYNAAYYAYYYAYAANYAANYNAAANNYAYNAAAYYTTGTGAADYMDDMDMYDMDDMMMMDMMMYMYMYDMDYDMYYMAGAQF\n",
      "YPPPPGANAYMMYYMVAA\n",
      "YVVYMVYVMMMMYYMYMVMYVYVVMMVYYVYYMYYYIIINIWTTSTAAGAT\n",
      "AGAATYYAYYPAAPPPPPYAAYAYYYAYYPAPYPYAPPPP\n",
      "TTLAVIVGNNTND\n",
      "WIWNFGYYYYRRHRHH\n"
     ]
    }
   ],
   "source": [
    "for s in  seq_all:\n",
    "    print(s)"
   ]
  },
  {
   "cell_type": "markdown",
   "metadata": {},
   "source": [
    "**Sequence Identity Calculation**"
   ]
  },
  {
   "cell_type": "code",
   "execution_count": null,
   "metadata": {},
   "outputs": [],
   "source": []
  }
 ],
 "metadata": {
  "kernelspec": {
   "display_name": "Python 3",
   "language": "python",
   "name": "python3"
  },
  "language_info": {
   "codemirror_mode": {
    "name": "ipython",
    "version": 3
   },
   "file_extension": ".py",
   "mimetype": "text/x-python",
   "name": "python",
   "nbconvert_exporter": "python",
   "pygments_lexer": "ipython3",
   "version": "3.7.4"
  }
 },
 "nbformat": 4,
 "nbformat_minor": 2
}
